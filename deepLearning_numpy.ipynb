{
 "cells": [
  {
   "cell_type": "code",
   "execution_count": null,
   "id": "872769ca",
   "metadata": {},
   "outputs": [],
   "source": [
    "import numpy as np\n",
    "import pandas as pd\n",
    "import os\n",
    "import random\n",
    "import matplotlib.pyplot as plt\n",
    "from PIL import Image\n",
    "\n",
    "%matplotlib inline  "
   ]
  },
  {
   "cell_type": "code",
   "execution_count": null,
   "id": "c6b50f71",
   "metadata": {},
   "outputs": [],
   "source": [
    "dataset_path = \"C:\\\\models\\\\numpy\\\\logistic_regression\\\\data\""
   ]
  },
  {
   "cell_type": "code",
   "execution_count": null,
   "id": "59cb7941",
   "metadata": {},
   "outputs": [],
   "source": [
    "image_names = os.listdir(dataset_path)\n",
    "print(image_names)"
   ]
  },
  {
   "cell_type": "code",
   "execution_count": null,
   "id": "025db635",
   "metadata": {},
   "outputs": [],
   "source": [
    "dataset = {}\n",
    "\n",
    "for name in image_names:\n",
    "    image_path = os.path.join(dataset_path, name)\n",
    "    splitted = name.split(\".\")\n",
    "    if splitted[0].endswith(\"cat\"):\n",
    "        dataset[image_path] = 0\n",
    "    elif splitted[0].endswith(\"dog\"):\n",
    "        dataset[image_path] = 1"
   ]
  },
  {
   "cell_type": "code",
   "execution_count": null,
   "id": "8aa47ea8",
   "metadata": {},
   "outputs": [],
   "source": [
    "sample_image_path = \"C:\\\\models\\\\numpy\\\\logistic_regression\\\\data\\\\cat.0.jpg\"\n",
    "img = np.array(Image.open(sample_image_path))\n",
    "plt.imshow(img)"
   ]
  },
  {
   "cell_type": "code",
   "execution_count": null,
   "id": "74d953bd",
   "metadata": {},
   "outputs": [],
   "source": [
    "n_h = img.shape[0]\n",
    "n_w = img.shape[1]\n",
    "n_c = img.shape[2]\n",
    "x = img.reshape(n_h * n_w * n_c, 1)\n",
    "print(\"flattened shape :\", x.shape)"
   ]
  },
  {
   "cell_type": "code",
   "execution_count": null,
   "id": "b50bc9fb",
   "metadata": {},
   "outputs": [],
   "source": [
    "x = []\n",
    "y = []\n",
    "\n",
    "for image_path, label in dataset.items():\n",
    "    image = Image.open(image_path).resize((100,100))\n",
    "    image_arr = np.array(image)/255.0\n",
    "    x.append(image_arr)\n",
    "    y.append(label)\n",
    "    \n",
    "random.seed(43)\n",
    "random.shuffle(x)\n",
    "random.shuffle(y)\n",
    "\n",
    "x = np.array(x)\n",
    "y = np.array(y)\n",
    "\n",
    "print(\"shape of x is : \", x.shape)\n",
    "print(\"shape of y is : \", y.shape)"
   ]
  },
  {
   "cell_type": "code",
   "execution_count": null,
   "id": "efa30f28",
   "metadata": {},
   "outputs": [],
   "source": [
    "save_path = \"C:\\\\models\\\\numpy\\\\logistic_regression\\\\preprocessed_data\"\n",
    "np.save(f\"{save_path}\\\\x.npy\", x)\n",
    "np.save(f\"{save_path}\\\\y.npy\", y)"
   ]
  },
  {
   "cell_type": "code",
   "execution_count": null,
   "id": "1d83747e",
   "metadata": {},
   "outputs": [],
   "source": [
    "m = 10\n",
    "x_flattened = x.reshape(x.shape[1] * x.shape[2] * x.shape[3], x.shape[0])\n",
    "y_true = y.reshape(1,m)\n",
    "\n",
    "print(\"input shape : \", x_flattened.shape)\n",
    "print(\"output shape : \", y_true.shape)"
   ]
  },
  {
   "cell_type": "code",
   "execution_count": null,
   "id": "709e4ca6",
   "metadata": {},
   "outputs": [],
   "source": [
    "def wts_init(ld):\n",
    "    params = {}\n",
    "    num_weights = len(ld)-1\n",
    "    for i in range(1, num_weights+1):\n",
    "        params[\"w\"+str(i)] = np.random.randn(ld[i], ld[i-1])\n",
    "        params[\"b\"+str(i)] = np.random.randn(ld[i], 1)\n",
    "    return params"
   ]
  },
  {
   "cell_type": "code",
   "execution_count": null,
   "id": "c243d419",
   "metadata": {},
   "outputs": [],
   "source": [
    "# debug\n",
    "ld = [10000, 6, 5, 1]\n",
    "params = wts_init(ld)\n",
    "print(params[\"w1\"].shape)\n",
    "print(params[\"w2\"].shape)\n",
    "print(params[\"w3\"].shape)"
   ]
  },
  {
   "cell_type": "code",
   "execution_count": null,
   "id": "4d380156",
   "metadata": {},
   "outputs": [],
   "source": [
    "def sigmoid(x):\n",
    "    sigmoid = 1/(1+np.exp(-x))\n",
    "    return sigmoid"
   ]
  },
  {
   "cell_type": "code",
   "execution_count": null,
   "id": "29dc95b3",
   "metadata": {},
   "outputs": [],
   "source": [
    "def fc(x, params):\n",
    "    a_next = x\n",
    "    layers = len(params)//2\n",
    "    forward_cache = []\n",
    "    for i in range(1, layers):\n",
    "        a_prev = a_next\n",
    "        z = np.dot(params[\"w\"+str(i)], a_prev) + params[\"b\"+str(i)]\n",
    "        a_next = np.tanh(z)\n",
    "        forward_cache.append((params[\"w\"+str(i)], params[\"b\"+str(i)], z, a_prev, a_next))\n",
    "    a_prev = a_next\n",
    "    z_final = np.dot(params[\"w\"+str(layers)], a_prev) + params[\"b\"+str(layers)]        \n",
    "    y_hat = sigmoid(z_final)\n",
    "    forward_cache.append((params[\"w\"+str(layers)], params[\"b\"+str(layers)], z_final, a_prev, y_hat))\n",
    "    return y_hat, forward_cache"
   ]
  },
  {
   "cell_type": "code",
   "execution_count": null,
   "id": "54e948f2",
   "metadata": {},
   "outputs": [],
   "source": [
    "def fc_with_dropout(x, params, rate):\n",
    "    keep_prob = rate\n",
    "    a_next = x\n",
    "    layers = len(params)//2\n",
    "    forward_cache = []\n",
    "    for i in range(1, layers):\n",
    "        a_prev = a_next\n",
    "        z = np.dot(params[\"w\"+str(i)], a_prev) + params[\"b\"+str(i)]\n",
    "        a_next = np.tanh(z)\n",
    "        do_mask = np.random.randn(a_next.shape[0], a_next.shape[1]) < (keep_prob)\n",
    "        a_next = np.multiply(a_next, do_mask)\n",
    "        a_next = a_next/keep_prob\n",
    "        forward_cache.append((params[\"w\"+str(i)], params[\"b\"+str(i)], z, a_prev, a_next))\n",
    "    a_prev = a_next\n",
    "    z_final = np.dot(params[\"w\"+str(layers)], a_prev) + params[\"b\"+str(layers)]        \n",
    "    y_hat = sigmoid(z_final)\n",
    "    forward_cache.append((params[\"w\"+str(layers)], params[\"b\"+str(layers)], z_final, a_prev, y_hat))\n",
    "    return y_hat, forward_cache"
   ]
  },
  {
   "cell_type": "code",
   "execution_count": null,
   "id": "89af00be",
   "metadata": {},
   "outputs": [],
   "source": [
    "#debug \n",
    "x = np.random.rand(10000, 20)\n",
    "preds, cache = fc_with_dropout(x, params, 0.8)\n",
    "printn(preds.shape)"
   ]
  },
  {
   "cell_type": "code",
   "execution_count": null,
   "id": "e8d7e43c",
   "metadata": {},
   "outputs": [],
   "source": [
    "def loss(y_true, y_hat):\n",
    "    m = y_true.shape[1]\n",
    "    cost = (-1/m) * (np.dot(y_true,np.log(y_hat).T) + np.dot((1-y_true), np.log(1-y_hat).T))\n",
    "    return np.squeeze(cost)"
   ]
  },
  {
   "cell_type": "code",
   "execution_count": null,
   "id": "9dc4fd5f",
   "metadata": {},
   "outputs": [],
   "source": [
    "def frob_norm(parameters, m, lamb):\n",
    "    norm = 0\n",
    "    num_layers = len(parameters)//2\n",
    "    for i in range(1, num_layers+1):\n",
    "        norm = np.sum(np.square(parameters[\"w\"+str(i)]))\n",
    "        norm+=norm\n",
    "    norm = (lamb/(2*m)) * norm\n",
    "    return norm"
   ]
  },
  {
   "cell_type": "code",
   "execution_count": null,
   "id": "172f8ae7",
   "metadata": {},
   "outputs": [],
   "source": [
    "def cost_with_reg(parameters, y_true, y_hat):\n",
    "    lamb = 0.1\n",
    "    m = y_true.shape[1]\n",
    "    cost = np.squeeze((-1/m) * (np.dot(y_true,np.log(y_hat).T) + np.dot((1-y_true), np.log(1-y_hat).T)))\n",
    "    norm = frob_norm(parameters, m, lamb)\n",
    "    return norm+cost"
   ]
  },
  {
   "cell_type": "code",
   "execution_count": null,
   "id": "1f615f6b",
   "metadata": {},
   "outputs": [],
   "source": [
    "# debug \n",
    "y_hat_tst = np.random.rand(1,20)\n",
    "y_true_tst = np.random.randn(1,20)\n",
    "cost = loss(y_true_tst, y_hat_tst)\n",
    "print(cost)"
   ]
  },
  {
   "cell_type": "code",
   "execution_count": null,
   "id": "8303c5e0",
   "metadata": {},
   "outputs": [],
   "source": [
    "def bc(ld, y_true, y_pred, cache):\n",
    "    m = y_true.shape[1]\n",
    "    gradients = {}\n",
    "    w_final, b_final, z_final, a_prev, y_hat = cache[-1]\n",
    "    da_final = -(np.divide(y_true, y_pred) - np.divide((1-y_true), (1-y_pred)))\n",
    "    dz_final = da_final * sigmoid(z_final) * (1-sigmoid(z_final))\n",
    "    dw_final = (1/m) * np.dot(dz_final, a_prev.T)\n",
    "    db_final = np.sum(dz_final, axis=1, keepdims=True)\n",
    "    da_prev  = np.dot(w_final.T, dz_final)\n",
    "    gradients[\"dw3\"] = dw_final\n",
    "    gradients[\"db3\"] = db_final\n",
    "    \n",
    "    for i in reversed(range(len(cache)-1)):\n",
    "        w, b, z, a_prev, h_hat = cache[i]\n",
    "        da = da_prev\n",
    "        dz = da * (1-np.square(np.tanh(z)))\n",
    "        dw = (1/m) * np.dot(dz,a_prev.T) \n",
    "        db = np.sum(dz, axis=1, keepdims=True)\n",
    "        da_prev = np.dot(w.T, dz)\n",
    "        gradients[\"dw\"+str(i+1)] = dw\n",
    "        gradients[\"db\"+str(i+1)] = db\n",
    "    return gradients"
   ]
  },
  {
   "cell_type": "code",
   "execution_count": null,
   "id": "e9253ffc",
   "metadata": {},
   "outputs": [],
   "source": [
    "# debug\n",
    "grads = bc(ld, y_true_tst, y_hat_tst, cache)"
   ]
  },
  {
   "cell_type": "code",
   "execution_count": null,
   "id": "50fbce25",
   "metadata": {},
   "outputs": [],
   "source": [
    "def init_velocity(params):\n",
    "    velocity = {}\n",
    "    num_layers = len(params)//2\n",
    "    for i in range(1, num_layers+1):\n",
    "        velocity[\"vdw\"+str(i)] = np.zeros((params[\"w\"+str(i)].shape[0], params[\"w\"+str(i)].shape[1]))\n",
    "        velocity[\"vdb\"+str(i)] = np.zeros((params[\"b\"+str(i)].shape[0], params[\"b\"+str(i)].shape[1]))\n",
    "    return velocity"
   ]
  },
  {
   "cell_type": "code",
   "execution_count": null,
   "id": "54b3010f",
   "metadata": {},
   "outputs": [],
   "source": [
    "# debug init velocity \n",
    "v = init_velocity(params)\n",
    "print(v[\"vdw2\"].shape)"
   ]
  },
  {
   "cell_type": "code",
   "execution_count": null,
   "id": "bab19655",
   "metadata": {},
   "outputs": [],
   "source": [
    "def update_with_momentum(params, grads, v, beta, lr):\n",
    "    num_layers = len(params)//2\n",
    "    for i in range(1, num_layers+1):\n",
    "        vdw = beta*v[\"vdw\"+str(i)] + (1-beta)*grads[\"dw\"+str(i)]\n",
    "        vdb = beta*v[\"vdb\"+str(i)] + (1-beta)*grads[\"db\"+str(i)]\n",
    "        params[\"w\"+str(i)] = params[\"w\"+str(i)] - (lr*vdw)\n",
    "        params[\"b\"+str(i)] = params[\"b\"+str(i)] - (lr*vdb)\n",
    "    return params"
   ]
  },
  {
   "cell_type": "code",
   "execution_count": null,
   "id": "eca444ba",
   "metadata": {},
   "outputs": [],
   "source": [
    "def init_prop(params):\n",
    "    s = {}\n",
    "    num_layers = len(params)//2\n",
    "    for i in range(1, num_layers+1):\n",
    "        s[\"sdw\"+str(i)] = np.zeros((params[\"w\"+str(i)].shape[0], params[\"w\"+str(i)].shape[1]))\n",
    "        s[\"sdb\"+str(i)] = np.zeros((params[\"b\"+str(i)].shape[0], params[\"b\"+str(i)].shape[1]))\n",
    "    return s"
   ]
  },
  {
   "cell_type": "code",
   "execution_count": null,
   "id": "21975b2f",
   "metadata": {},
   "outputs": [],
   "source": [
    "# debug init_prop\n",
    "s = init_prop(params)"
   ]
  },
  {
   "cell_type": "code",
   "execution_count": null,
   "id": "33fc26a9",
   "metadata": {},
   "outputs": [],
   "source": [
    "def update_with_rmsprop(params, grads, s, beta, lr):\n",
    "    num_layers = len(params)//2\n",
    "    for i in range(1, num_layers+1):\n",
    "        sdw = beta*s[\"sdw\"+str(i)] + (1-beta)*np.square(grads[\"dw\"+str(i)])\n",
    "        sdb = beta*s[\"sdb\"+str(i)] + (1-beta)*np.square(grads[\"db\"+str(i)])\n",
    "        params[\"w\"+str(i)] = params[\"w\"+str(i)] - (lr*(grads[\"dw\"+str(i)]/np.sqrt(sdw)))\n",
    "        params[\"b\"+str(i)] = params[\"b\"+str(i)] - (lr*(grads[\"db\"+str(i)]/np.sqrt(sdb)))\n",
    "    return params"
   ]
  },
  {
   "cell_type": "code",
   "execution_count": null,
   "id": "f1c3da24",
   "metadata": {},
   "outputs": [],
   "source": [
    "def init_adam(params):\n",
    "    s = {}\n",
    "    velocity = {}\n",
    "    num_layers = len(params)//2\n",
    "    for i in range(1, num_layers+1):\n",
    "        s[\"sdw\"+str(i)] = np.zeros((params[\"w\"+str(i)].shape[0], params[\"w\"+str(i)].shape[1]))\n",
    "        s[\"sdb\"+str(i)] = np.zeros((params[\"b\"+str(i)].shape[0], params[\"b\"+str(i)].shape[1]))\n",
    "        velocity[\"vdw\"+str(i)] = np.zeros((params[\"w\"+str(i)].shape[0], params[\"w\"+str(i)].shape[1]))\n",
    "        velocity[\"vdb\"+str(i)] = np.zeros((params[\"b\"+str(i)].shape[0], params[\"b\"+str(i)].shape[1]))\n",
    "    \n",
    "    return s, velocity"
   ]
  },
  {
   "cell_type": "code",
   "execution_count": null,
   "id": "c2943e50",
   "metadata": {},
   "outputs": [],
   "source": [
    "# debug\n",
    "s, v = init_adam(params)"
   ]
  },
  {
   "cell_type": "code",
   "execution_count": null,
   "id": "1b56533c",
   "metadata": {},
   "outputs": [],
   "source": [
    "def update_adam(params, grads, s,v, beta1, beta2, lr, t, epsilon):\n",
    "    num_layers = len(params)//2\n",
    "    for i in range(1, num_layers+1):\n",
    "        vdw = beta1*v[\"vdw\"+str(i)] + (1-beta1)*grads[\"dw\"+str(i)]\n",
    "        vdb = beta1*v[\"vdb\"+str(i)] + (1-beta1)*grads[\"db\"+str(i)]\n",
    "        sdw = beta2*s[\"sdw\"+str(i)] + (1-beta2)*np.square(grads[\"dw\"+str(i)])\n",
    "        sdb = beta2*s[\"sdb\"+str(i)] + (1-beta2)*np.square(grads[\"db\"+str(i)])\n",
    "        vdw = vdw/(1-beta1**t)\n",
    "        vdb = vdb/(1-beta1**t)\n",
    "        sdw = sdw/(1-beta2**t)\n",
    "        sdb = sdb/(1-beta2**t)\n",
    "        params[\"w\"+str(i)] = params[\"w\"+str(i)] - (lr*(vdw/(np.sqrt(sdw)+epsilon)))\n",
    "        params[\"b\"+str(i)] = params[\"b\"+str(i)] - (lr*(vdb/(np.sqrt(sdb)+epsilon)))\n",
    "    return params"
   ]
  },
  {
   "cell_type": "code",
   "execution_count": null,
   "id": "711a841f",
   "metadata": {},
   "outputs": [],
   "source": [
    "def update(params, grads, lr):\n",
    "    total_layers = len(params)//2\n",
    "    for i in range(1, total_layers+1):\n",
    "        params[\"w\"+str(i)] = params[\"w\"+str(i)] - (lr*grads[\"dw\"+str(i)])\n",
    "        params[\"b\"+str(i)] = params[\"b\"+str(i)] - (lr*grads[\"db\"+str(i)])\n",
    "    return params"
   ]
  },
  {
   "cell_type": "code",
   "execution_count": null,
   "id": "988b6fa9",
   "metadata": {},
   "outputs": [],
   "source": [
    "# debug\n",
    "updated = update(params, grads, 0.001)"
   ]
  },
  {
   "cell_type": "code",
   "execution_count": null,
   "id": "85ecdc85",
   "metadata": {},
   "outputs": [],
   "source": [
    "def l_model(epochs, x, y, lr, ld):\n",
    "    params = wts_init(ld)\n",
    "    v = init_velocity(params)\n",
    "    s = init_prop(params)\n",
    "    beta1 = 0.9\n",
    "    beta2 = 0.999\n",
    "    epsilon = 10e-8\n",
    "    t = 2\n",
    "    a = x\n",
    "    epoch_loss = []\n",
    "    for i in range(1, epochs+1):\n",
    "        y_hat, cache = fc_with_dropout(x, params, 0.8)\n",
    "        cost = cost_with_reg(params, y, y_hat)\n",
    "        grads = bc(ld, y, y_hat, cache)\n",
    "        params = update_adam(params, grads, s,v, beta1, beta2, lr, t, epsilon)\n",
    "        print(\"Epoch \", i, \" =====> \", cost)\n",
    "        epoch_loss.append(cost)\n",
    "    return params, epoch_loss"
   ]
  },
  {
   "cell_type": "code",
   "execution_count": null,
   "id": "b36fce2f",
   "metadata": {},
   "outputs": [],
   "source": [
    "wts, history = l_model(10, x_flattened, y_true, 0.0001, ld)"
   ]
  }
 ],
 "metadata": {
  "kernelspec": {
   "display_name": "Python 3 (ipykernel)",
   "language": "python",
   "name": "python3"
  },
  "language_info": {
   "codemirror_mode": {
    "name": "ipython",
    "version": 3
   },
   "file_extension": ".py",
   "mimetype": "text/x-python",
   "name": "python",
   "nbconvert_exporter": "python",
   "pygments_lexer": "ipython3",
   "version": "3.9.13"
  }
 },
 "nbformat": 4,
 "nbformat_minor": 5
}
